{
  "nbformat": 4,
  "nbformat_minor": 0,
  "metadata": {
    "colab": {
      "provenance": [],
      "include_colab_link": true
    },
    "kernelspec": {
      "name": "python3",
      "display_name": "Python 3"
    },
    "language_info": {
      "name": "python"
    }
  },
  "cells": [
    {
      "cell_type": "markdown",
      "metadata": {
        "id": "view-in-github",
        "colab_type": "text"
      },
      "source": [
        "<a href=\"https://colab.research.google.com/github/Dwarampudivivek/unique_projects/blob/main/Untitled1.ipynb\" target=\"_parent\"><img src=\"https://colab.research.google.com/assets/colab-badge.svg\" alt=\"Open In Colab\"/></a>"
      ]
    },
    {
      "cell_type": "code",
      "execution_count": null,
      "metadata": {
        "id": "guhp6TIAmubn"
      },
      "outputs": [],
      "source": [
        "class Node:\n",
        "    def __init__(self, data):\n",
        "       self.data = data\n",
        "       self.link = None\n",
        "class stack:\n",
        "    def __init__(self):\n",
        "        self.top = None\n",
        "        self.count=0\n",
        "\n",
        "    def push(self, ele):\n",
        "        cur=Node(ele)\n",
        "        if(self.top==None):\n",
        "            self.top=cur\n",
        "        else:\n",
        "            cur.link=self.top\n",
        "            self.top=cur\n",
        "\n",
        "    def pop(self):\n",
        "        cur=self.top\n",
        "        self.top=self.top.link\n",
        "        cur.link=None\n",
        "        return(cur.data)\n",
        "\n",
        "    def isempty(self):\n",
        "        if(self.top==None):\n",
        "            return 1\n",
        "        else:\n",
        "            return 0\n",
        "    def peek(self):\n",
        "        return self.top.data\n",
        "\n",
        "    def display(self):\n",
        "        cur = self.top\n",
        "        self.count=0\n",
        "        while cur is not None:\n",
        "           print('-> ', cur.data)\n",
        "           cur= cur.link\n",
        "           self.count=self.count+1\n",
        "\n",
        "\n",
        "s = stack()\n",
        "while(True):\n",
        "    ch = int(input(\"1.Push  2.Pop  3.display  4.peek  5.no of elements  6.exit\\n\"))\n",
        "    if(ch == 1):\n",
        "        item = int(input(\"Enter Element to push in stack\\n\"))\n",
        "        s.push(item)\n",
        "    elif(ch == 2):\n",
        "        if(s.isempty()):\n",
        "            print(\"stack underflow\")\n",
        "        else:\n",
        "            print(s.pop())\n",
        "    elif(ch==3):\n",
        "        if(s.isempty()):\n",
        "            print(\"stack underflow\")\n",
        "        else:\n",
        "            s.display()\n",
        "    elif(ch == 4):\n",
        "        print(s.peek())\n",
        "    elif(ch==5):\n",
        "        print(\"no of elementson stack\", s.count)\n",
        "    elif(ch==6):\n",
        "        exit()"
      ]
    }
  ]
}