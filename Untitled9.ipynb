{
  "nbformat": 4,
  "nbformat_minor": 0,
  "metadata": {
    "colab": {
      "provenance": [],
      "include_colab_link": true
    },
    "kernelspec": {
      "name": "python3",
      "display_name": "Python 3"
    },
    "language_info": {
      "name": "python"
    }
  },
  "cells": [
    {
      "cell_type": "markdown",
      "metadata": {
        "id": "view-in-github",
        "colab_type": "text"
      },
      "source": [
        "<a href=\"https://colab.research.google.com/github/Dwarampudivivek/unique_projects/blob/main/Untitled9.ipynb\" target=\"_parent\"><img src=\"https://colab.research.google.com/assets/colab-badge.svg\" alt=\"Open In Colab\"/></a>"
      ]
    },
    {
      "cell_type": "code",
      "execution_count": null,
      "metadata": {
        "id": "h-kLTWtWxxhT"
      },
      "outputs": [],
      "source": [
        "this is my first program"
      ]
    },
    {
      "cell_type": "markdown",
      "source": [],
      "metadata": {
        "id": "jo9klJkSB9rw"
      }
    },
    {
      "cell_type": "markdown",
      "source": [],
      "metadata": {
        "id": "lPogG_M6Dt9r"
      }
    },
    {
      "cell_type": "markdown",
      "source": [
        "hjhkkhjhkhkjh"
      ],
      "metadata": {
        "id": "Y94zElOWD0Sm"
      }
    },
    {
      "cell_type": "markdown",
      "source": [],
      "metadata": {
        "id": "HmLCe6uIETlw"
      }
    },
    {
      "cell_type": "markdown",
      "source": [],
      "metadata": {
        "id": "mvOpyPMSDmBw"
      }
    },
    {
      "cell_type": "markdown",
      "source": [
        "this is my first program in software engineering lab\n"
      ],
      "metadata": {
        "id": "9b8iVzH6xyeD"
      }
    }
  ]
}